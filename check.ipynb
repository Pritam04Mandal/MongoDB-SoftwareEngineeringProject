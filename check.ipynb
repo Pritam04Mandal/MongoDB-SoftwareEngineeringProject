{
 "cells": [
  {
   "cell_type": "code",
   "execution_count": 2,
   "metadata": {},
   "outputs": [
    {
     "name": "stdout",
     "output_type": "stream",
     "text": [
      "print hello world for the 1 times\n",
      "print hello world for the 2 times\n",
      "print hello world for the 3 times\n",
      "print hello world for the 4 times\n",
      "print hello world for the 5 times\n",
      "print hello world for the 6 times\n",
      "print hello world for the 7 times\n",
      "print hello world for the 8 times\n",
      "print hello world for the 9 times\n",
      "print hello world for the 10 times\n"
     ]
    }
   ],
   "source": [
    "import os\n",
    "imgp=1\n",
    "for i in range(10):\n",
    "    n=\"print hello world for the \"+str(imgp)+\" times\"\n",
    "    imgp+=1\n",
    "    print(n)"
   ]
  }
 ],
 "metadata": {
  "kernelspec": {
   "display_name": "venv",
   "language": "python",
   "name": "python3"
  },
  "language_info": {
   "codemirror_mode": {
    "name": "ipython",
    "version": 3
   },
   "file_extension": ".py",
   "mimetype": "text/x-python",
   "name": "python",
   "nbconvert_exporter": "python",
   "pygments_lexer": "ipython3",
   "version": "3.10.6"
  },
  "orig_nbformat": 4
 },
 "nbformat": 4,
 "nbformat_minor": 2
}
